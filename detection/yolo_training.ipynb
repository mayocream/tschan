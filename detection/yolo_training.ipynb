{
 "cells": [
  {
   "cell_type": "markdown",
   "metadata": {},
   "source": [
    "### Download Datasets from Google Drive"
   ]
  },
  {
   "cell_type": "code",
   "execution_count": null,
   "metadata": {},
   "outputs": [],
   "source": [
    "%cd ~\n",
    "!git clone https://github.com/mayocream/tschan"
   ]
  },
  {
   "cell_type": "code",
   "execution_count": null,
   "metadata": {},
   "outputs": [],
   "source": [
    "%cd ~/tschan\n",
    "%pip install gdown\n",
    "%pip install --upgrade gdown\n",
    "\n",
    "# acquire the dataset from http://www.manga109.org/ja/download.html\n",
    "!gdown \"***&confirm=t\"\n",
    "!unzip Manga109.zip\n",
    "!mv Manga109_released_2021_12_30 datasets/manga109 # keep name consistent with scripts/convert_manga109_to_coco.py\n",
    "!rm Manga109.zip"
   ]
  },
  {
   "cell_type": "markdown",
   "metadata": {},
   "source": [
    "### Preprecessing datasets"
   ]
  },
  {
   "cell_type": "code",
   "execution_count": null,
   "metadata": {},
   "outputs": [],
   "source": [
    "%cd ~/tschan/datasets\n",
    "\n",
    "%pip install manga109api ultralytics\n",
    "!python scripts/convert_manga109_to_coco.py \\\n",
    "    --manga109_root_dir manga109 \\\n",
    "    --dataset_version v2021.12.31 \\\n",
    "    --label_filename_prefix manga109_coco \\\n",
    "    --add_manga109_info\n",
    "\n",
    "# convert coco to yolo format\n",
    "!python scripts/convert_coco_to_yolo.py"
   ]
  },
  {
   "cell_type": "markdown",
   "metadata": {},
   "source": [
    "### Training Yolov8"
   ]
  },
  {
   "cell_type": "markdown",
   "metadata": {},
   "source": [
    "Create a config YAML file inside `datasets/manga109/yolo_labels/`\n",
    "\n",
    "```\n",
    "path: /root/tschan/datasets/manga109/yolo_labels  # dataset root dir\n",
    "train: images/manga109_coco_90train\n",
    "val: images/manga109_coco_4val\n",
    "test: images/manga109_coco_15test\n",
    "\n",
    "# Classes\n",
    "names:\n",
    "  0: frame\n",
    "  1: text\n",
    "```"
   ]
  },
  {
   "cell_type": "code",
   "execution_count": null,
   "metadata": {},
   "outputs": [],
   "source": [
    "%cd ~/tschan/detection\n",
    "%pip install ultralytics\n",
    "\n",
    "from ultralytics import YOLO\n",
    "\n",
    "# Load a model\n",
    "model = YOLO('yolov8s.pt')  # load a pretrained model (recommended for training)\n",
    "\n",
    "# Train the model\n",
    "results = model.train(data='../datasets/manga109/yolo_labels/manga109.yaml', epochs=100, verbose=True, batch=128)\n",
    "# results = model.train(resume=True)\n",
    "!cp -rv runs /notebooks/"
   ]
  },
  {
   "cell_type": "markdown",
   "metadata": {},
   "source": [
    "### Inference"
   ]
  },
  {
   "cell_type": "code",
   "execution_count": null,
   "metadata": {},
   "outputs": [],
   "source": [
    "from ultralytics import YOLO\n",
    "\n",
    "# Load a pretrained YOLOv8n model\n",
    "model = YOLO('runs/detect/train/weights/best.pt')\n",
    "# run inference on a single image\n",
    "model.predict('../datasets/bluearchive_comics/images/101.jpg', save=True, imgsz=640, conf=0.5)"
   ]
  },
  {
   "cell_type": "code",
   "execution_count": null,
   "metadata": {},
   "outputs": [],
   "source": [
    "from ultralytics import YOLO\n",
    "\n",
    "# Load a model\n",
    "model = YOLO('../yolov8n.pt')\n",
    "\n",
    "# Export the model\n",
    "model.export(format='onnx')"
   ]
  }
 ],
 "metadata": {
  "kernelspec": {
   "display_name": "Python 3 (ipykernel)",
   "language": "python",
   "name": "python3"
  },
  "language_info": {
   "codemirror_mode": {
    "name": "ipython",
    "version": 3
   },
   "file_extension": ".py",
   "mimetype": "text/x-python",
   "name": "python",
   "nbconvert_exporter": "python",
   "pygments_lexer": "ipython3",
   "version": "3.11.5"
  },
  "orig_nbformat": 4
 },
 "nbformat": 4,
 "nbformat_minor": 2
}
