{
 "cells": [
  {
   "cell_type": "markdown",
   "metadata": {},
   "source": [
    "## Training Detection Model\n",
    "\n",
    "The purpose of this notebook is to fine-tune a model for detecting speech bubbles, text and characters in manga panels.\n",
    "Due to the unique layout, artistic style, and the presence of both text and illustrations on the same page,\n",
    "a text detection model trained on natural images will not perform well on manga images."
   ]
  },
  {
   "cell_type": "markdown",
   "metadata": {},
   "source": [
    "### Prepare datasets"
   ]
  },
  {
   "cell_type": "code",
   "execution_count": null,
   "metadata": {},
   "outputs": [],
   "source": [
    "from google.colab import drive\n",
    "drive.mount('/content/drive')\n",
    "\n",
    "!git clone https://github.com/mayocream/tschan\n",
    "# acquire the dataset from http://www.manga109.org/ja/download.html\n",
    "!unzip /content/drive/MyDrive/ML/Manga109.zip -d tschan/datasets/"
   ]
  },
  {
   "cell_type": "markdown",
   "metadata": {},
   "source": [
    "### Preprecessing datasets"
   ]
  },
  {
   "cell_type": "code",
   "execution_count": null,
   "metadata": {},
   "outputs": [],
   "source": [
    "%cd tschan/datasets\n",
    "!mv Manga109_released_2021_12_30 manga109 # keep name consistent with scripts/convert_manga109_to_coco.py\n",
    "\n",
    "%pip install manga109api supervision\n",
    "!python scripts/convert_manga109_to_coco.py \\\n",
    "    --manga109_root_dir manga109 \\\n",
    "    --dataset_version v2021.12.31 \\\n",
    "    --label_filename_prefix manga109_coco \\\n",
    "    --add_manga109_info\n",
    "\n",
    "# convert coco to yolo format\n",
    "!python scripts/convert_coco_to_yolo.py"
   ]
  },
  {
   "cell_type": "markdown",
   "metadata": {},
   "source": [
    "### Training"
   ]
  },
  {
   "cell_type": "code",
   "execution_count": null,
   "metadata": {},
   "outputs": [],
   "source": [
    "%pip install ultralytics\n",
    "\n",
    "from ultralytics import YOLO\n",
    "\n",
    "# Load a model\n",
    "model = YOLO('yolov8n.pt')  # load a pretrained model (recommended for training)\n",
    "\n",
    "# Train the model\n",
    "results = model.train(data='datasets/manga109/yolo_format/manga109.yaml', epochs=100, verbose=True)"
   ]
  },
  {
   "cell_type": "markdown",
   "metadata": {},
   "source": [
    "### Inference"
   ]
  },
  {
   "cell_type": "code",
   "execution_count": null,
   "metadata": {},
   "outputs": [],
   "source": [
    "from ultralytics import YOLO\n",
    "\n",
    "# Load a pretrained YOLOv8n model\n",
    "model = YOLO('runs/train/wrights/best.pt')\n",
    "\n",
    "model.predict('a.jpg', save=True, imgsz=640, conf=0.5)"
   ]
  }
 ],
 "metadata": {
  "kernelspec": {
   "display_name": ".env",
   "language": "python",
   "name": "python3"
  },
  "language_info": {
   "codemirror_mode": {
    "name": "ipython",
    "version": 3
   },
   "file_extension": ".py",
   "mimetype": "text/x-python",
   "name": "python",
   "nbconvert_exporter": "python",
   "pygments_lexer": "ipython3",
   "version": "3.11.5"
  },
  "orig_nbformat": 4
 },
 "nbformat": 4,
 "nbformat_minor": 2
}
